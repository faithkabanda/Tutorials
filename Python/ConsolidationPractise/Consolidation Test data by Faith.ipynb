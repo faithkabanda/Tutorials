{
 "cells": [
  {
   "cell_type": "markdown",
   "id": "a7caf6e2",
   "metadata": {},
   "source": [
    "Import "
   ]
  },
  {
   "cell_type": "code",
   "execution_count": 2,
   "id": "0f9e977c",
   "metadata": {},
   "outputs": [],
   "source": [
    "import os\n",
    "import pandas as pd"
   ]
  },
  {
   "cell_type": "markdown",
   "id": "666c7cd0",
   "metadata": {},
   "source": [
    "Check which files you have in the data folder"
   ]
  },
  {
   "cell_type": "code",
   "execution_count": 4,
   "id": "e7dcef84",
   "metadata": {},
   "outputs": [
    {
     "name": "stdout",
     "output_type": "stream",
     "text": [
      "['Account Report - Mon Jul 04 2022.xlsx', 'Asset Report - Mon Jul 04 2022.xlsx', 'Employee Report - Mon Jul 04 2022.xlsx']\n"
     ]
    }
   ],
   "source": [
    "print(os.listdir(\"Datafiles\"))"
   ]
  },
  {
   "cell_type": "markdown",
   "id": "16ea510b",
   "metadata": {},
   "source": [
    "Create short names for the files"
   ]
  },
  {
   "cell_type": "code",
   "execution_count": 5,
   "id": "b80f5be4",
   "metadata": {},
   "outputs": [
    {
     "data": {
      "text/html": [
       "<div>\n",
       "<style scoped>\n",
       "    .dataframe tbody tr th:only-of-type {\n",
       "        vertical-align: middle;\n",
       "    }\n",
       "\n",
       "    .dataframe tbody tr th {\n",
       "        vertical-align: top;\n",
       "    }\n",
       "\n",
       "    .dataframe thead th {\n",
       "        text-align: right;\n",
       "    }\n",
       "</style>\n",
       "<table border=\"1\" class=\"dataframe\">\n",
       "  <thead>\n",
       "    <tr style=\"text-align: right;\">\n",
       "      <th></th>\n",
       "      <th>Respondent ID</th>\n",
       "      <th>Gender</th>\n",
       "      <th>Age</th>\n",
       "      <th>Number of children</th>\n",
       "      <th>Marital Status</th>\n",
       "      <th>Country of Residence</th>\n",
       "      <th>Citizenship</th>\n",
       "      <th>Firm ID</th>\n",
       "      <th>Sector type</th>\n",
       "      <th>Date firm established</th>\n",
       "      <th>Age of Firm</th>\n",
       "      <th>Number of Owners</th>\n",
       "      <th>Owner/s Gender</th>\n",
       "      <th>Number of Employees</th>\n",
       "      <th>Industry</th>\n",
       "      <th>Location in the Country</th>\n",
       "    </tr>\n",
       "  </thead>\n",
       "  <tbody>\n",
       "    <tr>\n",
       "      <th>0</th>\n",
       "      <td>4874</td>\n",
       "      <td>Female</td>\n",
       "      <td>51</td>\n",
       "      <td>1</td>\n",
       "      <td>Single</td>\n",
       "      <td>Colombia</td>\n",
       "      <td>Colombia</td>\n",
       "      <td>BG-SH-GO-2823</td>\n",
       "      <td>AD-01</td>\n",
       "      <td>dd/01/2007</td>\n",
       "      <td>Longer than 10 years</td>\n",
       "      <td>1</td>\n",
       "      <td>All women</td>\n",
       "      <td>5</td>\n",
       "      <td>Light Manu</td>\n",
       "      <td>Bogotá</td>\n",
       "    </tr>\n",
       "    <tr>\n",
       "      <th>1</th>\n",
       "      <td>4875</td>\n",
       "      <td>Male</td>\n",
       "      <td>43</td>\n",
       "      <td>0</td>\n",
       "      <td>Single</td>\n",
       "      <td>Colombia</td>\n",
       "      <td>Colombia</td>\n",
       "      <td>BDS-BG-UQ-GH-3615</td>\n",
       "      <td>V-01</td>\n",
       "      <td>01/02/1997</td>\n",
       "      <td>Longer than 10 years</td>\n",
       "      <td>1</td>\n",
       "      <td>All men</td>\n",
       "      <td>14</td>\n",
       "      <td>Light Manu</td>\n",
       "      <td>Bogotá</td>\n",
       "    </tr>\n",
       "    <tr>\n",
       "      <th>2</th>\n",
       "      <td>4876</td>\n",
       "      <td>Male</td>\n",
       "      <td>35</td>\n",
       "      <td>1</td>\n",
       "      <td>Married</td>\n",
       "      <td>Colombia</td>\n",
       "      <td>Colombia</td>\n",
       "      <td>BG--GO-3181</td>\n",
       "      <td>AD-02</td>\n",
       "      <td>25/06/2010</td>\n",
       "      <td>Longer than 10 years</td>\n",
       "      <td>1</td>\n",
       "      <td>All men</td>\n",
       "      <td>1</td>\n",
       "      <td>Other</td>\n",
       "      <td>Bogotá</td>\n",
       "    </tr>\n",
       "    <tr>\n",
       "      <th>3</th>\n",
       "      <td>4878</td>\n",
       "      <td>Male</td>\n",
       "      <td>50</td>\n",
       "      <td>3</td>\n",
       "      <td>Single</td>\n",
       "      <td>Colombia</td>\n",
       "      <td>Colombia</td>\n",
       "      <td>BG-SH-GO-3425</td>\n",
       "      <td>G-02</td>\n",
       "      <td>2020</td>\n",
       "      <td>3 - 4 years</td>\n",
       "      <td>1</td>\n",
       "      <td>All women</td>\n",
       "      <td>3</td>\n",
       "      <td>Light Manu</td>\n",
       "      <td>Bogotá</td>\n",
       "    </tr>\n",
       "    <tr>\n",
       "      <th>4</th>\n",
       "      <td>4879</td>\n",
       "      <td>Female</td>\n",
       "      <td>42</td>\n",
       "      <td>4</td>\n",
       "      <td>Single</td>\n",
       "      <td>Colombia</td>\n",
       "      <td>Colombia</td>\n",
       "      <td>BG-EB-GH-3175</td>\n",
       "      <td>U-01</td>\n",
       "      <td>01/05/2003</td>\n",
       "      <td>Longer than 10 years</td>\n",
       "      <td>1</td>\n",
       "      <td>All women</td>\n",
       "      <td>3</td>\n",
       "      <td>Other</td>\n",
       "      <td>Bogotá</td>\n",
       "    </tr>\n",
       "  </tbody>\n",
       "</table>\n",
       "</div>"
      ],
      "text/plain": [
       "   Respondent ID  Gender  Age  Number of children Marital Status  \\\n",
       "0           4874  Female   51                   1         Single   \n",
       "1           4875    Male   43                   0         Single   \n",
       "2           4876    Male   35                   1        Married   \n",
       "3           4878    Male   50                   3         Single   \n",
       "4           4879  Female   42                   4         Single   \n",
       "\n",
       "  Country of Residence Citizenship            Firm ID Sector type  \\\n",
       "0             Colombia    Colombia      BG-SH-GO-2823       AD-01   \n",
       "1             Colombia    Colombia  BDS-BG-UQ-GH-3615        V-01   \n",
       "2             Colombia    Colombia        BG--GO-3181       AD-02   \n",
       "3             Colombia    Colombia      BG-SH-GO-3425        G-02   \n",
       "4             Colombia    Colombia      BG-EB-GH-3175        U-01   \n",
       "\n",
       "  Date firm established           Age of Firm Number of Owners Owner/s Gender  \\\n",
       "0            dd/01/2007  Longer than 10 years                1      All women   \n",
       "1            01/02/1997  Longer than 10 years                1        All men   \n",
       "2            25/06/2010  Longer than 10 years                1        All men   \n",
       "3                  2020           3 - 4 years                1      All women   \n",
       "4            01/05/2003  Longer than 10 years                1      All women   \n",
       "\n",
       "   Number of Employees    Industry Location in the Country  \n",
       "0                    5  Light Manu                  Bogotá  \n",
       "1                   14  Light Manu                  Bogotá  \n",
       "2                    1       Other                  Bogotá  \n",
       "3                    3  Light Manu                  Bogotá  \n",
       "4                    3       Other                  Bogotá  "
      ]
     },
     "execution_count": 5,
     "metadata": {},
     "output_type": "execute_result"
    }
   ],
   "source": [
    "# USE new_name = pd.read_excel('Folder/filename.xlsx') .... foldername if folder(s) is inside the main folder that carries the IPYNB file.\n",
    "# make sure the files to be read are not open in excel\n",
    "account = pd.read_excel('Datafiles/Account Report - Mon Jul 04 2022.xlsx', sheet_name = 2)\n",
    "assets = pd.read_excel('Datafiles/Asset Report - Mon Jul 04 2022.xlsx')\n",
    "employees = pd.read_excel('Datafiles/Employee Report - Mon Jul 04 2022.xlsx', sheet_name = 4)\n",
    "\n",
    "#check data\n",
    "\n",
    "assets.head()\n"
   ]
  },
  {
   "cell_type": "markdown",
   "id": "6ac192d6",
   "metadata": {},
   "source": [
    "Check the column names we have"
   ]
  },
  {
   "cell_type": "code",
   "execution_count": 6,
   "id": "b44ba845",
   "metadata": {
    "scrolled": true
   },
   "outputs": [
    {
     "name": "stdout",
     "output_type": "stream",
     "text": [
      "Index(['Respondent ID', 'Gender', 'Age', 'Number of children',\n",
      "       'Marital Status', 'Country of Residence', 'Citizenship', 'Firm ID',\n",
      "       'Sector type', 'Date firm established', 'Age of Firm',\n",
      "       'Number of Owners', 'Owner/s Gender', 'Number of Employees', 'Industry',\n",
      "       'Location in the Country', 'Account report data ID',\n",
      "       'Account report account name', 'Account report deposit/withdrawal',\n",
      "       'Account report amount', 'Account report currency',\n",
      "       'Account report date', 'Account report data type',\n",
      "       'Account report surveyor', 'Account report date created',\n",
      "       'Account report last updated', 'Account report edit count',\n",
      "       'Account report description', 'Account report tag'],\n",
      "      dtype='object')\n"
     ]
    }
   ],
   "source": [
    "print(account.columns)\n"
   ]
  },
  {
   "cell_type": "code",
   "execution_count": 7,
   "id": "c584ef71",
   "metadata": {},
   "outputs": [
    {
     "name": "stdout",
     "output_type": "stream",
     "text": [
      "Index(['Respondent ID', 'Gender', 'Age', 'Number of children',\n",
      "       'Marital Status', 'Country of Residence', 'Citizenship', 'Firm ID',\n",
      "       'Sector type', 'Date firm established', 'Age of Firm',\n",
      "       'Number of Owners', 'Owner/s Gender', 'Number of Employees', 'Industry',\n",
      "       'Location in the Country'],\n",
      "      dtype='object')\n"
     ]
    }
   ],
   "source": [
    "print(assets.columns)"
   ]
  },
  {
   "cell_type": "code",
   "execution_count": 8,
   "id": "e8f8ab46",
   "metadata": {
    "scrolled": true
   },
   "outputs": [
    {
     "name": "stdout",
     "output_type": "stream",
     "text": [
      "Index(['Respondent ID', 'Gender', 'Age', 'Number of children',\n",
      "       'Marital Status', 'Country of Residence', 'Citizenship', 'Firm ID',\n",
      "       'Sector type', 'Date firm established', 'Age of Firm',\n",
      "       'Number of Owners', 'Owner/s Gender', 'Number of Employees', 'Industry',\n",
      "       'Location in the Country', 'Employee payment data ID',\n",
      "       'Employee payment employee name', 'Employee payment income sources',\n",
      "       'Employee payment hours worked', 'Employee payment amount',\n",
      "       'Employee payment currency', 'Employee payment date',\n",
      "       'Employee payment account', 'Employee payment account report ID',\n",
      "       'Employee payment transaction type', 'Employee payment type',\n",
      "       'Employee payment surveyor', 'Employee payment date created',\n",
      "       'Employee payment last updated', 'Employee payment edit count',\n",
      "       'Employee payment description', 'Employee payment tag'],\n",
      "      dtype='object')\n"
     ]
    }
   ],
   "source": [
    "print(employees.columns)"
   ]
  },
  {
   "cell_type": "markdown",
   "id": "15ed6213",
   "metadata": {},
   "source": [
    "Identify columns that we need"
   ]
  },
  {
   "cell_type": "code",
   "execution_count": 9,
   "id": "6412a2a8",
   "metadata": {},
   "outputs": [],
   "source": [
    "account = account[[\"Respondent ID\",\"Firm ID\",\"Account report date\",\"Account report amount\"]]\n",
    "employees = employees[[\"Respondent ID\",\"Firm ID\",\"Employee payment date created\",\"Employee payment amount\"]]\n",
    "\n",
    "account = account.rename(columns = {\"Firm ID\":\"firm_id\",\n",
    "                                    \"Account report date\":\"date\",\n",
    "                                    \"Account report amount\":\"amount\"})\n",
    "\n",
    "employees = employees.rename(columns = {\n",
    "    \"Respondent ID\":\"respondent_id\",\n",
    "    \"Firm ID\":\"firm_id\",\n",
    "    \"Employee payment date created\":\"date\",\n",
    "    \"Employee payment amount\":\"amount\"\n",
    "})\n"
   ]
  },
  {
   "cell_type": "code",
   "execution_count": 10,
   "id": "9e951324",
   "metadata": {},
   "outputs": [
    {
     "name": "stdout",
     "output_type": "stream",
     "text": [
      "(43326, 4) (11831, 4)\n"
     ]
    }
   ],
   "source": [
    "#check how many rows and columns the data has\n",
    "print(account.shape,employees.shape)"
   ]
  },
  {
   "cell_type": "code",
   "execution_count": 13,
   "id": "16061372",
   "metadata": {},
   "outputs": [
    {
     "data": {
      "text/plain": [
       "(55157, 6)"
      ]
     },
     "execution_count": 13,
     "metadata": {},
     "output_type": "execute_result"
    }
   ],
   "source": [
    "#create a new column that will show you where the data is coming from\n",
    "account[\"file\"] = \"account\"\n",
    "employees[\"file\"] = \"employees\"\n",
    "\n",
    "Final_by_FK = pd.concat((account,employees)) #create a consolidated file\n",
    "Final_by_FK.shape"
   ]
  },
  {
   "cell_type": "code",
   "execution_count": 14,
   "id": "9cb7098e",
   "metadata": {},
   "outputs": [
    {
     "data": {
      "text/html": [
       "<div>\n",
       "<style scoped>\n",
       "    .dataframe tbody tr th:only-of-type {\n",
       "        vertical-align: middle;\n",
       "    }\n",
       "\n",
       "    .dataframe tbody tr th {\n",
       "        vertical-align: top;\n",
       "    }\n",
       "\n",
       "    .dataframe thead th {\n",
       "        text-align: right;\n",
       "    }\n",
       "</style>\n",
       "<table border=\"1\" class=\"dataframe\">\n",
       "  <thead>\n",
       "    <tr style=\"text-align: right;\">\n",
       "      <th></th>\n",
       "      <th>Respondent ID</th>\n",
       "      <th>firm_id</th>\n",
       "      <th>date</th>\n",
       "      <th>amount</th>\n",
       "      <th>file</th>\n",
       "      <th>respondent_id</th>\n",
       "    </tr>\n",
       "  </thead>\n",
       "  <tbody>\n",
       "    <tr>\n",
       "      <th>0</th>\n",
       "      <td>4874.0</td>\n",
       "      <td>BG-SH-GO-2823</td>\n",
       "      <td>2021-06-02</td>\n",
       "      <td>3000000.0</td>\n",
       "      <td>account</td>\n",
       "      <td>NaN</td>\n",
       "    </tr>\n",
       "    <tr>\n",
       "      <th>1</th>\n",
       "      <td>4874.0</td>\n",
       "      <td>BG-SH-GO-2823</td>\n",
       "      <td>2021-06-03</td>\n",
       "      <td>500000.0</td>\n",
       "      <td>account</td>\n",
       "      <td>NaN</td>\n",
       "    </tr>\n",
       "    <tr>\n",
       "      <th>2</th>\n",
       "      <td>4874.0</td>\n",
       "      <td>BG-SH-GO-2823</td>\n",
       "      <td>2021-06-03</td>\n",
       "      <td>800000.0</td>\n",
       "      <td>account</td>\n",
       "      <td>NaN</td>\n",
       "    </tr>\n",
       "    <tr>\n",
       "      <th>3</th>\n",
       "      <td>4874.0</td>\n",
       "      <td>BG-SH-GO-2823</td>\n",
       "      <td>2021-06-03</td>\n",
       "      <td>1030000.0</td>\n",
       "      <td>account</td>\n",
       "      <td>NaN</td>\n",
       "    </tr>\n",
       "    <tr>\n",
       "      <th>4</th>\n",
       "      <td>4874.0</td>\n",
       "      <td>BG-SH-GO-2823</td>\n",
       "      <td>2021-06-04</td>\n",
       "      <td>3600000.0</td>\n",
       "      <td>account</td>\n",
       "      <td>NaN</td>\n",
       "    </tr>\n",
       "  </tbody>\n",
       "</table>\n",
       "</div>"
      ],
      "text/plain": [
       "   Respondent ID        firm_id        date     amount     file  respondent_id\n",
       "0         4874.0  BG-SH-GO-2823  2021-06-02  3000000.0  account            NaN\n",
       "1         4874.0  BG-SH-GO-2823  2021-06-03   500000.0  account            NaN\n",
       "2         4874.0  BG-SH-GO-2823  2021-06-03   800000.0  account            NaN\n",
       "3         4874.0  BG-SH-GO-2823  2021-06-03  1030000.0  account            NaN\n",
       "4         4874.0  BG-SH-GO-2823  2021-06-04  3600000.0  account            NaN"
      ]
     },
     "execution_count": 14,
     "metadata": {},
     "output_type": "execute_result"
    }
   ],
   "source": [
    "#check to see if it worked\n",
    "Final_by_FK.head()\n"
   ]
  },
  {
   "cell_type": "markdown",
   "id": "853ef2f7",
   "metadata": {},
   "source": [
    "Export New File"
   ]
  },
  {
   "cell_type": "code",
   "execution_count": 16,
   "id": "95dbad8c",
   "metadata": {},
   "outputs": [],
   "source": [
    "Final_by_FK.to_excel(\"Outputs by Faith/consolidated.xlsx\") #path/nameofthefileyouwant.xlsx"
   ]
  }
 ],
 "metadata": {
  "kernelspec": {
   "display_name": "Python 3 (ipykernel)",
   "language": "python",
   "name": "python3"
  },
  "language_info": {
   "codemirror_mode": {
    "name": "ipython",
    "version": 3
   },
   "file_extension": ".py",
   "mimetype": "text/x-python",
   "name": "python",
   "nbconvert_exporter": "python",
   "pygments_lexer": "ipython3",
   "version": "3.9.12"
  }
 },
 "nbformat": 4,
 "nbformat_minor": 5
}
