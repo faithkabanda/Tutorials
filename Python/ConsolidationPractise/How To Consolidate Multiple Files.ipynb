{
 "cells": [
  {
   "cell_type": "code",
   "execution_count": 3,
   "id": "d8b8457b",
   "metadata": {},
   "outputs": [
    {
     "data": {
      "text/plain": [
       "['.ipynb_checkpoints',\n",
       " '220801_TestingCornershopData_add_FK.ipynb',\n",
       " '220801_TestingCornershopData_add_FK.md',\n",
       " 'How To Consolidate Multiple Files.ipynb',\n",
       " 'Python_introduction.ipynb']"
      ]
     },
     "execution_count": 3,
     "metadata": {},
     "output_type": "execute_result"
    }
   ],
   "source": [
    "import pandas as pd #import is similar to the library() command in R.\n",
    "import os\n",
    "os.listdir()"
   ]
  },
  {
   "cell_type": "markdown",
   "id": "06407ff7",
   "metadata": {},
   "source": [
    "Create variables for input and output location folders\n"
   ]
  },
  {
   "cell_type": "code",
   "execution_count": 5,
   "id": "f7314f92",
   "metadata": {},
   "outputs": [],
   "source": [
    "input_loc = \"C:/Users/Faith Kabanda/OneDrive/Documents/L-IFT/StaffTraining/Faith/Python/Data Files Used To test Codes/\"\n",
    "output_loc = \"C:/Users/Faith Kabanda/OneDrive/Documents/L-IFT/StaffTraining/Faith/Python/Data Files Used To test Codes/\"\n",
    "#use forward slashes for windows"
   ]
  },
  {
   "cell_type": "markdown",
   "id": "d9866af6",
   "metadata": {},
   "source": [
    "Create variable list for input files"
   ]
  },
  {
   "cell_type": "code",
   "execution_count": 8,
   "id": "162fa308",
   "metadata": {},
   "outputs": [
    {
     "data": {
      "text/plain": [
       "['220802_TestDataExpense Report_add_FK - Mon Apr 18 2022.xlsx',\n",
       " '220802_TestDataIncome Report_add_FK - Mon Apr 18 2022.xlsx',\n",
       " '~$220802_TestDataExpense Report_add_FK - Mon Apr 18 2022.xlsx',\n",
       " '~$220802_TestDataIncome Report_add_FK - Mon Apr 18 2022.xlsx']"
      ]
     },
     "execution_count": 8,
     "metadata": {},
     "output_type": "execute_result"
    }
   ],
   "source": [
    "fileList = os.listdir(input_loc) #because files to be consolidated are in the assigned input_loc path above\n",
    "fileList #shows available files"
   ]
  },
  {
   "cell_type": "code",
   "execution_count": 10,
   "id": "2cda2334",
   "metadata": {},
   "outputs": [
    {
     "ename": "IndentationError",
     "evalue": "expected an indented block (984267460.py, line 4)",
     "output_type": "error",
     "traceback": [
      "\u001b[1;36m  Input \u001b[1;32mIn [10]\u001b[1;36m\u001b[0m\n\u001b[1;33m    df = pd.read_excel(input_loc + files)\u001b[0m\n\u001b[1;37m    ^\u001b[0m\n\u001b[1;31mIndentationError\u001b[0m\u001b[1;31m:\u001b[0m expected an indented block\n"
     ]
    }
   ],
   "source": [
    "finalDf = pd.DataFrame() # create a blank new file as a dataframe\n",
    "for files in fileList:\n",
    "    if files.endswith(\".xlsx\"):\n",
    "    df = pd.read_excel(input_loc + files)\n",
    "    finalDf = finalDf.append(df)\n",
    "    \n",
    "finalDf.to_excel(output_loc+\"finalDf.xlsx\")"
   ]
  },
  {
   "cell_type": "code",
   "execution_count": null,
   "id": "85edcdb5",
   "metadata": {},
   "outputs": [],
   "source": []
  }
 ],
 "metadata": {
  "kernelspec": {
   "display_name": "Python 3 (ipykernel)",
   "language": "python",
   "name": "python3"
  },
  "language_info": {
   "codemirror_mode": {
    "name": "ipython",
    "version": 3
   },
   "file_extension": ".py",
   "mimetype": "text/x-python",
   "name": "python",
   "nbconvert_exporter": "python",
   "pygments_lexer": "ipython3",
   "version": "3.9.12"
  }
 },
 "nbformat": 4,
 "nbformat_minor": 5
}
